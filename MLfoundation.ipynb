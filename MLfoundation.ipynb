{
  "nbformat": 4,
  "nbformat_minor": 0,
  "metadata": {
    "colab": {
      "provenance": [],
      "authorship_tag": "ABX9TyMCEQ/EUubbi3KvN+t4sIrE",
      "include_colab_link": true
    },
    "kernelspec": {
      "name": "python3",
      "display_name": "Python 3"
    },
    "language_info": {
      "name": "python"
    }
  },
  "cells": [
    {
      "cell_type": "markdown",
      "metadata": {
        "id": "view-in-github",
        "colab_type": "text"
      },
      "source": [
        "<a href=\"https://colab.research.google.com/github/drstannwoji2019/AITools_LRL_NLP/blob/main/MLfoundation.ipynb\" target=\"_parent\"><img src=\"https://colab.research.google.com/assets/colab-badge.svg\" alt=\"Open In Colab\"/></a>"
      ]
    },
    {
      "cell_type": "code",
      "execution_count": null,
      "metadata": {
        "id": "ZTPqBopDWaTK"
      },
      "outputs": [],
      "source": [
        "import numpy as np"
      ]
    },
    {
      "cell_type": "markdown",
      "source": [
        "This code imports the numpy module"
      ],
      "metadata": {
        "id": "b69aP83KWikM"
      }
    },
    {
      "cell_type": "code",
      "source": [
        "import numpy as np"
      ],
      "metadata": {
        "id": "dkNgc3lmWngJ"
      },
      "execution_count": 1,
      "outputs": []
    },
    {
      "cell_type": "markdown",
      "source": [
        "np.array can be used to create one-dimensional array or two-dimensional array"
      ],
      "metadata": {
        "id": "6zYRXoHxWyaQ"
      }
    },
    {
      "cell_type": "code",
      "source": [
        "stans_one_dimensional_array = np.array([1.2, 2.4, 3.5, 4.7, 6.1, 7.2, 8.3, 9.5])\n",
        "print(stans_one_dimensional_array)"
      ],
      "metadata": {
        "colab": {
          "base_uri": "https://localhost:8080/"
        },
        "id": "12zK-mvYW_fg",
        "outputId": "82ef12e5-9477-4ddc-cd70-b24d0e63f489"
      },
      "execution_count": 8,
      "outputs": [
        {
          "output_type": "stream",
          "name": "stdout",
          "text": [
            "[1.2 2.4 3.5 4.7 6.1 7.2 8.3 9.5]\n"
          ]
        }
      ]
    },
    {
      "cell_type": "code",
      "source": [
        "stans_two_dimensional_array = np.array([[6, 5], [11, 7], [4, 8]])\n",
        "print(stans_two_dimensional_array)"
      ],
      "metadata": {
        "colab": {
          "base_uri": "https://localhost:8080/"
        },
        "id": "MroOyHGkYelw",
        "outputId": "037ebc3b-805a-4ea1-ff4a-9d8968fc3ca3"
      },
      "execution_count": 9,
      "outputs": [
        {
          "output_type": "stream",
          "name": "stdout",
          "text": [
            "[[ 6  5]\n",
            " [11  7]\n",
            " [ 4  8]]\n"
          ]
        }
      ]
    },
    {
      "cell_type": "markdown",
      "source": [
        "To populate an array with all zeros, use np.zeros; to populate array with all ones, call np.ones."
      ],
      "metadata": {
        "id": "PidoiH26Y7xN"
      }
    },
    {
      "cell_type": "code",
      "source": [
        "np.zeros([])"
      ],
      "metadata": {
        "colab": {
          "base_uri": "https://localhost:8080/"
        },
        "id": "hzFFTiVuZNQx",
        "outputId": "a7eb1f7d-67e6-4722-e14b-498ac471f4be"
      },
      "execution_count": 12,
      "outputs": [
        {
          "output_type": "execute_result",
          "data": {
            "text/plain": [
              "array(0.)"
            ]
          },
          "metadata": {},
          "execution_count": 12
        }
      ]
    },
    {
      "cell_type": "markdown",
      "source": [
        "To populate array with a sequence of numbers use np.arrange."
      ],
      "metadata": {
        "id": "JocnXKDpZuIp"
      }
    },
    {
      "cell_type": "code",
      "source": [
        "integer_sequence = np.arange(10, 100)\n",
        "print(integer_sequence)"
      ],
      "metadata": {
        "colab": {
          "base_uri": "https://localhost:8080/"
        },
        "id": "lPGSnOdOZ3rW",
        "outputId": "bfdc4dd8-0cd3-488a-b119-34ac2c60a762"
      },
      "execution_count": 14,
      "outputs": [
        {
          "output_type": "stream",
          "name": "stdout",
          "text": [
            "[10 11 12 13 14 15 16 17 18 19 20 21 22 23 24 25 26 27 28 29 30 31 32 33\n",
            " 34 35 36 37 38 39 40 41 42 43 44 45 46 47 48 49 50 51 52 53 54 55 56 57\n",
            " 58 59 60 61 62 63 64 65 66 67 68 69 70 71 72 73 74 75 76 77 78 79 80 81\n",
            " 82 83 84 85 86 87 88 89 90 91 92 93 94 95 96 97 98 99]\n"
          ]
        }
      ]
    },
    {
      "cell_type": "markdown",
      "source": [
        "To populate arrays with random numbers, use np.random.randint."
      ],
      "metadata": {
        "id": "GlZHDPwpaldR"
      }
    },
    {
      "cell_type": "code",
      "source": [
        "random_integers_between_20_and_1000 = np.random.randint(low=20, high=1000, size = 200)\n",
        "print(random_integers_between_20_and_1000)"
      ],
      "metadata": {
        "colab": {
          "base_uri": "https://localhost:8080/"
        },
        "id": "3I8-0U4daspj",
        "outputId": "7fcc0c2d-6451-4966-be8d-a7320cbce7eb"
      },
      "execution_count": 15,
      "outputs": [
        {
          "output_type": "stream",
          "name": "stdout",
          "text": [
            "[973 763 490 919 719 138 399 691 189 885  94 438 337 389 718 724 104 469\n",
            " 824 923 688 437  31 756 945 764 129 373 269 725 916 381 943 388  74 859\n",
            " 392 564 350 672 440 863 526 719 854  99  76 109 674 875 581 198 600 498\n",
            " 624 230 321 521 986 113 122 766 275 236 492 249 677 971  40 708 665 261\n",
            " 764 393 926 615 678 324 738 385 637 553 141 696 595 250 276 210 907 178\n",
            " 281 327 178 784 357 133 546 772  58 381 936 363 833 669 528 289 326 303\n",
            " 513 336 465 791 292 508 679 858 469 634 730 869 902 717 352 475 101 473\n",
            " 222 646 787 912 530 412 706 299 894 651 204 367 589 485 106 718 924 245\n",
            " 144 955 155 320 327 781 389 597 680 335  95 172 585 967 295 281 798 725\n",
            " 652 395 176  38 463 443 772 687 977 509 742  85 832 158 931 690 328 837\n",
            " 574 697 354 205 973 552 458 845 130 372 105  21 129 975  81 467  43  46\n",
            " 454 562]\n"
          ]
        }
      ]
    },
    {
      "cell_type": "markdown",
      "source": [
        "Use np.random.random to create floats between 0.0 and 1.0"
      ],
      "metadata": {
        "id": "bnmzxFXNb2va"
      }
    },
    {
      "cell_type": "code",
      "source": [
        "np.random.random([50])"
      ],
      "metadata": {
        "colab": {
          "base_uri": "https://localhost:8080/"
        },
        "id": "vJvJzJCbcJ5f",
        "outputId": "c099052c-3c00-4a64-f802-3a37a31bec2e"
      },
      "execution_count": 19,
      "outputs": [
        {
          "output_type": "execute_result",
          "data": {
            "text/plain": [
              "array([0.89479257, 0.74234655, 0.70658086, 0.38835049, 0.98438127,\n",
              "       0.21612387, 0.81975847, 0.11528864, 0.59401051, 0.1337327 ,\n",
              "       0.96270622, 0.22265223, 0.53054832, 0.69278267, 0.6411282 ,\n",
              "       0.18431754, 0.38791961, 0.33355249, 0.09039905, 0.11927431,\n",
              "       0.48958659, 0.56854323, 0.96969027, 0.4968029 , 0.36895134,\n",
              "       0.94540553, 0.43285774, 0.32709577, 0.53355161, 0.89802141,\n",
              "       0.54109245, 0.01683239, 0.88091109, 0.05826095, 0.94580445,\n",
              "       0.16071352, 0.82303545, 0.35501665, 0.35005592, 0.76011217,\n",
              "       0.99495482, 0.13774012, 0.74795125, 0.29941816, 0.47606984,\n",
              "       0.42452865, 0.65712652, 0.80699733, 0.83856346, 0.9316479 ])"
            ]
          },
          "metadata": {},
          "execution_count": 19
        }
      ]
    }
  ]
}