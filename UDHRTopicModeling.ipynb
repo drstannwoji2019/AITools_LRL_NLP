{
  "nbformat": 4,
  "nbformat_minor": 0,
  "metadata": {
    "colab": {
      "provenance": [],
      "toc_visible": true,
      "authorship_tag": "ABX9TyPds0k/qwZdF7XRzLANmJG7",
      "include_colab_link": true
    },
    "kernelspec": {
      "name": "python3",
      "display_name": "Python 3"
    },
    "language_info": {
      "name": "python"
    }
  },
  "cells": [
    {
      "cell_type": "markdown",
      "metadata": {
        "id": "view-in-github",
        "colab_type": "text"
      },
      "source": [
        "<a href=\"https://colab.research.google.com/github/drstannwoji2019/AITools_LRL_NLP/blob/main/UDHRTopicModeling.ipynb\" target=\"_parent\"><img src=\"https://colab.research.google.com/assets/colab-badge.svg\" alt=\"Open In Colab\"/></a>"
      ]
    },
    {
      "cell_type": "code",
      "execution_count": 1,
      "metadata": {
        "colab": {
          "base_uri": "https://localhost:8080/",
          "height": 0
        },
        "id": "5FTQSuhwgi1w",
        "outputId": "59daa0a3-2a83-40d6-de17-40d84af0e2d1"
      },
      "outputs": [
        {
          "output_type": "stream",
          "name": "stdout",
          "text": [
            "Collecting PyMuPDF\n",
            "  Downloading PyMuPDF-1.24.2-cp310-none-manylinux2014_x86_64.whl (3.5 MB)\n",
            "\u001b[2K     \u001b[90m━━━━━━━━━━━━━━━━━━━━━━━━━━━━━━━━━━━━━━━━\u001b[0m \u001b[32m3.5/3.5 MB\u001b[0m \u001b[31m16.6 MB/s\u001b[0m eta \u001b[36m0:00:00\u001b[0m\n",
            "\u001b[?25hCollecting PyMuPDFb==1.24.1 (from PyMuPDF)\n",
            "  Downloading PyMuPDFb-1.24.1-py3-none-manylinux2014_x86_64.manylinux_2_17_x86_64.whl (30.8 MB)\n",
            "\u001b[2K     \u001b[90m━━━━━━━━━━━━━━━━━━━━━━━━━━━━━━━━━━━━━━━━\u001b[0m \u001b[32m30.8/30.8 MB\u001b[0m \u001b[31m18.2 MB/s\u001b[0m eta \u001b[36m0:00:00\u001b[0m\n",
            "\u001b[?25hInstalling collected packages: PyMuPDFb, PyMuPDF\n",
            "Successfully installed PyMuPDF-1.24.2 PyMuPDFb-1.24.1\n"
          ]
        }
      ],
      "source": [
        "!pip install PyMuPDF"
      ]
    },
    {
      "cell_type": "code",
      "source": [
        "import fitz"
      ],
      "metadata": {
        "id": "OHipoMV-gmRt"
      },
      "execution_count": 2,
      "outputs": []
    },
    {
      "cell_type": "code",
      "source": [
        "doc = fitz.open(\"/content/UDHR_Igbo.pdf\")"
      ],
      "metadata": {
        "id": "ZqdwvXuRhyhA"
      },
      "execution_count": 3,
      "outputs": []
    },
    {
      "cell_type": "code",
      "source": [
        "text = \"\"\n",
        "for page in doc:\n",
        "    text += page.get_text()\n",
        "doc.close()"
      ],
      "metadata": {
        "id": "yf15iOIXh6W9"
      },
      "execution_count": 4,
      "outputs": []
    },
    {
      "cell_type": "code",
      "source": [
        "!pip install nltk"
      ],
      "metadata": {
        "colab": {
          "base_uri": "https://localhost:8080/",
          "height": 0
        },
        "id": "1hE_kDMQiIFJ",
        "outputId": "e3fbc8da-2833-4965-a0fc-18b749db87c4"
      },
      "execution_count": 6,
      "outputs": [
        {
          "output_type": "stream",
          "name": "stdout",
          "text": [
            "Requirement already satisfied: nltk in /usr/local/lib/python3.10/dist-packages (3.8.1)\n",
            "Requirement already satisfied: click in /usr/local/lib/python3.10/dist-packages (from nltk) (8.1.7)\n",
            "Requirement already satisfied: joblib in /usr/local/lib/python3.10/dist-packages (from nltk) (1.4.0)\n",
            "Requirement already satisfied: regex>=2021.8.3 in /usr/local/lib/python3.10/dist-packages (from nltk) (2023.12.25)\n",
            "Requirement already satisfied: tqdm in /usr/local/lib/python3.10/dist-packages (from nltk) (4.66.2)\n"
          ]
        }
      ]
    },
    {
      "cell_type": "code",
      "source": [
        "import nltk"
      ],
      "metadata": {
        "id": "QKm4ixCli2XV"
      },
      "execution_count": 7,
      "outputs": []
    },
    {
      "cell_type": "code",
      "source": [
        "tokenizer = nltk.RegexpTokenizer(r'\\w+')"
      ],
      "metadata": {
        "id": "DofHbtjujFlt"
      },
      "execution_count": 8,
      "outputs": []
    },
    {
      "cell_type": "code",
      "source": [
        "tokens = tokenizer.tokenize(text.lower())"
      ],
      "metadata": {
        "id": "6hNQjPqIjY24"
      },
      "execution_count": 9,
      "outputs": []
    },
    {
      "cell_type": "code",
      "source": [
        "!pip install gensim"
      ],
      "metadata": {
        "colab": {
          "base_uri": "https://localhost:8080/",
          "height": 0
        },
        "id": "sHDYt-7XjsCY",
        "outputId": "99195bfd-7aee-4eb1-f1d3-7fd9fd25fdad"
      },
      "execution_count": 11,
      "outputs": [
        {
          "output_type": "stream",
          "name": "stdout",
          "text": [
            "Requirement already satisfied: gensim in /usr/local/lib/python3.10/dist-packages (4.3.2)\n",
            "Requirement already satisfied: numpy>=1.18.5 in /usr/local/lib/python3.10/dist-packages (from gensim) (1.25.2)\n",
            "Requirement already satisfied: scipy>=1.7.0 in /usr/local/lib/python3.10/dist-packages (from gensim) (1.11.4)\n",
            "Requirement already satisfied: smart-open>=1.8.1 in /usr/local/lib/python3.10/dist-packages (from gensim) (6.4.0)\n"
          ]
        }
      ]
    },
    {
      "cell_type": "code",
      "source": [
        "from gensim import corpora\n",
        "from gensim.models import LdaModel"
      ],
      "metadata": {
        "id": "XzyZXSyvkDR6"
      },
      "execution_count": 15,
      "outputs": []
    },
    {
      "cell_type": "code",
      "source": [
        "dictionary = corpora.Dictionary([tokens])\n",
        "corpus = [dictionary.doc2bow(tokens)]"
      ],
      "metadata": {
        "id": "HNQy7aIQkJ5R"
      },
      "execution_count": 16,
      "outputs": []
    },
    {
      "cell_type": "code",
      "source": [
        "lda_model = LdaModel(corpus=corpus, id2word=dictionary, num_topics=11, random_state=42)"
      ],
      "metadata": {
        "colab": {
          "base_uri": "https://localhost:8080/",
          "height": 0
        },
        "id": "uyuXuKpAkVYT",
        "outputId": "969e59bd-ff81-4359-ce96-baafbe183562"
      },
      "execution_count": 20,
      "outputs": [
        {
          "output_type": "stream",
          "name": "stderr",
          "text": [
            "WARNING:gensim.models.ldamodel:too few updates, training might not converge; consider increasing the number of passes or iterations to improve accuracy\n"
          ]
        }
      ]
    },
    {
      "cell_type": "code",
      "source": [
        "perplexity = lda_model.log_perplexity(corpus)\n",
        "print(\"Perplexity:\", perplexity)"
      ],
      "metadata": {
        "colab": {
          "base_uri": "https://localhost:8080/",
          "height": 0
        },
        "id": "JfvaczTcky2P",
        "outputId": "a0674d29-a455-4cf6-f60f-a7ce37d12eb9"
      },
      "execution_count": 21,
      "outputs": [
        {
          "output_type": "stream",
          "name": "stdout",
          "text": [
            "Perplexity: -6.586022463301975\n"
          ]
        }
      ]
    },
    {
      "cell_type": "code",
      "source": [
        "topics = lda_model.print_topics(num_words=5)\n",
        "for topic_no, topic in topics:\n",
        "    print(f\"Topic {topic_no}: {topic}\")"
      ],
      "metadata": {
        "colab": {
          "base_uri": "https://localhost:8080/",
          "height": 0
        },
        "id": "njJcgw8xk7E6",
        "outputId": "09c855b1-9551-4655-8f43-1025c95277ac"
      },
      "execution_count": 22,
      "outputs": [
        {
          "output_type": "stream",
          "name": "stdout",
          "text": [
            "Topic 0: 0.022*\"na\" + 0.017*\"ọ\" + 0.013*\"n\" + 0.012*\"onye\" + 0.011*\"nke\"\n",
            "Topic 1: 0.024*\"n\" + 0.024*\"na\" + 0.022*\"ọ\" + 0.019*\"a\" + 0.018*\"nke\"\n",
            "Topic 2: 0.046*\"na\" + 0.044*\"ọ\" + 0.039*\"n\" + 0.030*\"ya\" + 0.028*\"nke\"\n",
            "Topic 3: 0.003*\"ọ\" + 0.003*\"n\" + 0.002*\"na\" + 0.002*\"bụ\" + 0.002*\"ya\"\n",
            "Topic 4: 0.038*\"na\" + 0.029*\"ọ\" + 0.027*\"n\" + 0.022*\"ma\" + 0.020*\"ya\"\n",
            "Topic 5: 0.050*\"na\" + 0.049*\"ọ\" + 0.038*\"n\" + 0.028*\"a\" + 0.026*\"bụla\"\n",
            "Topic 6: 0.052*\"na\" + 0.049*\"n\" + 0.043*\"ọ\" + 0.026*\"ma\" + 0.025*\"nke\"\n",
            "Topic 7: 0.055*\"na\" + 0.035*\"ọ\" + 0.032*\"n\" + 0.024*\"onye\" + 0.024*\"ya\"\n",
            "Topic 8: 0.046*\"na\" + 0.046*\"ọ\" + 0.036*\"n\" + 0.028*\"bụla\" + 0.027*\"nke\"\n",
            "Topic 9: 0.059*\"ọ\" + 0.042*\"na\" + 0.039*\"n\" + 0.029*\"ya\" + 0.025*\"a\"\n",
            "Topic 10: 0.059*\"na\" + 0.036*\"n\" + 0.031*\"ọ\" + 0.024*\"ya\" + 0.023*\"ikike\"\n"
          ]
        }
      ]
    }
  ]
}