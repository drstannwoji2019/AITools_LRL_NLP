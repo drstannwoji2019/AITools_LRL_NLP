{
  "nbformat": 4,
  "nbformat_minor": 0,
  "metadata": {
    "colab": {
      "provenance": [],
      "authorship_tag": "ABX9TyOueJMnmQ8XYtyGQOrSY5ej",
      "include_colab_link": true
    },
    "kernelspec": {
      "name": "python3",
      "display_name": "Python 3"
    },
    "language_info": {
      "name": "python"
    }
  },
  "cells": [
    {
      "cell_type": "markdown",
      "metadata": {
        "id": "view-in-github",
        "colab_type": "text"
      },
      "source": [
        "<a href=\"https://colab.research.google.com/github/drstannwoji2019/AITools_LRL_NLP/blob/main/ISEM565SupervisedCodeRes.ipynb\" target=\"_parent\"><img src=\"https://colab.research.google.com/assets/colab-badge.svg\" alt=\"Open In Colab\"/></a>"
      ]
    },
    {
      "cell_type": "code",
      "execution_count": 2,
      "metadata": {
        "colab": {
          "base_uri": "https://localhost:8080/"
        },
        "id": "blFMvXhG1cOx",
        "outputId": "5e5dbe4c-6ff9-4e65-ecd5-81de2d3a1995"
      },
      "outputs": [
        {
          "output_type": "stream",
          "name": "stdout",
          "text": [
            "ANN Model: Accuracy = 0.8780487804878049, F1 Score = 0.8795497185741088, Precision = 0.8836772983114447, Sensitivity = 0.8780487804878049\n",
            "SVM Model: Accuracy = 0.9024390243902439, F1 Score = 0.9044024608403508, Precision = 0.9117305458768873, Sensitivity = 0.9024390243902439\n",
            "Decision Tree Model: Accuracy = 0.926829268292683, F1 Score = 0.928794782453319, Precision = 0.9414634146341464, Sensitivity = 0.926829268292683\n"
          ]
        }
      ],
      "source": [
        "import pandas as pd\n",
        "from sklearn.model_selection import train_test_split\n",
        "from sklearn.preprocessing import StandardScaler, OneHotEncoder\n",
        "from sklearn.compose import ColumnTransformer\n",
        "from sklearn.pipeline import Pipeline\n",
        "from sklearn.impute import SimpleImputer\n",
        "import numpy as np\n",
        "from sklearn.neural_network import MLPClassifier\n",
        "from sklearn.svm import SVC\n",
        "from sklearn.tree import DecisionTreeClassifier\n",
        "from sklearn.metrics import accuracy_score, f1_score, precision_score, recall_score\n",
        "\n",
        "# Load the dataset\n",
        "file_path = '/Car.csv'\n",
        "data = pd.read_csv(file_path)\n",
        "\n",
        "# Separate features and target variable\n",
        "X = data.drop(['car_ID', 'price', 'CarName'], axis=1)\n",
        "y = data['price']\n",
        "\n",
        "# Define bins and labels\n",
        "bins = [0, 10000, 20000, np.inf]\n",
        "labels = ['Low', 'Medium', 'High']\n",
        "\n",
        "# Create a new categorical target variable\n",
        "y_binned = pd.cut(y, bins=bins, labels=labels)\n",
        "\n",
        "# Identify categorical and numerical columns\n",
        "categorical_cols = X.select_dtypes(include=['object']).columns\n",
        "numerical_cols = X.select_dtypes(include=['int64', 'float64']).columns\n",
        "\n",
        "# Preprocessing for numerical data: Imputation and Standardization\n",
        "numerical_transformer = Pipeline(steps=[\n",
        "    ('imputer', SimpleImputer(strategy='mean')),\n",
        "    ('scaler', StandardScaler())])\n",
        "\n",
        "# Preprocessing for categorical data: Imputation and One-hot Encoding\n",
        "categorical_transformer = Pipeline(steps=[\n",
        "    ('imputer', SimpleImputer(strategy='constant', fill_value='missing')),\n",
        "    ('onehot', OneHotEncoder(handle_unknown='ignore'))])\n",
        "\n",
        "# Combine preprocessors\n",
        "preprocessor = ColumnTransformer(\n",
        "    transformers=[\n",
        "        ('num', numerical_transformer, numerical_cols),\n",
        "        ('cat', categorical_transformer, categorical_cols)])\n",
        "\n",
        "# Split the data into training and testing sets\n",
        "X_train, X_test, y_train, y_test = train_test_split(X, y_binned, test_size=0.2, random_state=42)\n",
        "\n",
        "# Apply the preprocessing steps to the training and testing data\n",
        "X_train = preprocessor.fit_transform(X_train)\n",
        "X_test = preprocessor.transform(X_test)\n",
        "\n",
        "# Train the ANN model\n",
        "ann_model = MLPClassifier(hidden_layer_sizes=(100,), max_iter=1000, random_state=42)\n",
        "ann_model.fit(X_train, y_train)\n",
        "y_pred_ann = ann_model.predict(X_test)\n",
        "\n",
        "# Train the SVM model\n",
        "svm_model = SVC(kernel='rbf')\n",
        "svm_model.fit(X_train, y_train)\n",
        "y_pred_svm = svm_model.predict(X_test)\n",
        "\n",
        "# Train the Decision Tree model\n",
        "tree_model = DecisionTreeClassifier(random_state=42)\n",
        "tree_model.fit(X_train, y_train)\n",
        "y_pred_tree = tree_model.predict(X_test)\n",
        "\n",
        "# Define a function to evaluate the models\n",
        "def evaluate_model(y_test, y_pred):\n",
        "    accuracy = accuracy_score(y_test, y_pred)\n",
        "    f1 = f1_score(y_test, y_pred, average='weighted')\n",
        "    precision = precision_score(y_test, y_pred, average='weighted')\n",
        "    sensitivity = recall_score(y_test, y_pred, average='weighted')\n",
        "    return accuracy, f1, precision, sensitivity\n",
        "\n",
        "# Evaluate the ANN model\n",
        "acc_ann, f1_ann, prec_ann, sens_ann = evaluate_model(y_test, y_pred_ann)\n",
        "\n",
        "# Evaluate the SVM model\n",
        "acc_svm, f1_svm, prec_svm, sens_svm = evaluate_model(y_test, y_pred_svm)\n",
        "\n",
        "# Evaluate the Decision Tree model\n",
        "acc_tree, f1_tree, prec_tree, sens_tree = evaluate_model(y_test, y_pred_tree)\n",
        "\n",
        "# Print the results\n",
        "print(f\"ANN Model: Accuracy = {acc_ann}, F1 Score = {f1_ann}, Precision = {prec_ann}, Sensitivity = {sens_ann}\")\n",
        "print(f\"SVM Model: Accuracy = {acc_svm}, F1 Score = {f1_svm}, Precision = {prec_svm}, Sensitivity = {sens_svm}\")\n",
        "print(f\"Decision Tree Model: Accuracy = {acc_tree}, F1 Score = {f1_tree}, Precision = {prec_tree}, Sensitivity = {sens_tree}\")\n"
      ]
    }
  ]
}