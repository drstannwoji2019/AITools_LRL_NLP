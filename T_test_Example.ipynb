{
  "nbformat": 4,
  "nbformat_minor": 0,
  "metadata": {
    "colab": {
      "provenance": [],
      "authorship_tag": "ABX9TyNcWKXoe3CvOFIvdmYhOWZ/",
      "include_colab_link": true
    },
    "kernelspec": {
      "name": "python3",
      "display_name": "Python 3"
    },
    "language_info": {
      "name": "python"
    }
  },
  "cells": [
    {
      "cell_type": "markdown",
      "metadata": {
        "id": "view-in-github",
        "colab_type": "text"
      },
      "source": [
        "<a href=\"https://colab.research.google.com/github/drstannwoji2019/AITools_LRL_NLP/blob/main/T_test_Example.ipynb\" target=\"_parent\"><img src=\"https://colab.research.google.com/assets/colab-badge.svg\" alt=\"Open In Colab\"/></a>"
      ]
    },
    {
      "cell_type": "code",
      "execution_count": 1,
      "metadata": {
        "colab": {
          "base_uri": "https://localhost:8080/"
        },
        "id": "mU_HYUfS596_",
        "outputId": "9e42d4d8-06f8-4e7b-c8b2-42648807b146"
      },
      "outputs": [
        {
          "output_type": "stream",
          "name": "stdout",
          "text": [
            "Sample 1 mean: 5.88571289452635\n",
            "Sample 2 mean: 5.420956287692038\n",
            "t-statistic: 0.889701920750517\n",
            "p-value: 0.37730145339434673\n",
            "We fail to reject the null hypothesis: there is no significant difference between the two samples.\n"
          ]
        }
      ],
      "source": [
        "import numpy as np\n",
        "from scipy import stats\n",
        "\n",
        "# Generate two random samples\n",
        "np.random.seed(0)  # For reproducibility\n",
        "sample1 = np.random.normal(loc=5, scale=2, size=30)  # Sample from a normal distribution with mean=5 and std=2\n",
        "sample2 = np.random.normal(loc=6, scale=2, size=30)  # Sample from a normal distribution with mean=6 and std=2\n",
        "\n",
        "# Perform an independent t-test\n",
        "t_statistic, p_value = stats.ttest_ind(sample1, sample2)\n",
        "\n",
        "print(\"Sample 1 mean:\", np.mean(sample1))\n",
        "print(\"Sample 2 mean:\", np.mean(sample2))\n",
        "print(\"t-statistic:\", t_statistic)\n",
        "print(\"p-value:\", p_value)\n",
        "\n",
        "# Interpretation\n",
        "alpha = 0.05\n",
        "if p_value < alpha:\n",
        "    print(\"We reject the null hypothesis: there is a significant difference between the two samples.\")\n",
        "else:\n",
        "    print(\"We fail to reject the null hypothesis: there is no significant difference between the two samples.\")\n"
      ]
    }
  ]
}