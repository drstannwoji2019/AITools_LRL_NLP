{
  "nbformat": 4,
  "nbformat_minor": 0,
  "metadata": {
    "colab": {
      "provenance": [],
      "authorship_tag": "ABX9TyNQbAj7cU8nP1qMy6lU6YlX",
      "include_colab_link": true
    },
    "kernelspec": {
      "name": "python3",
      "display_name": "Python 3"
    },
    "language_info": {
      "name": "python"
    }
  },
  "cells": [
    {
      "cell_type": "markdown",
      "metadata": {
        "id": "view-in-github",
        "colab_type": "text"
      },
      "source": [
        "<a href=\"https://colab.research.google.com/github/drstannwoji2019/AITools_LRL_NLP/blob/main/scrapeddata.ipynb\" target=\"_parent\"><img src=\"https://colab.research.google.com/assets/colab-badge.svg\" alt=\"Open In Colab\"/></a>"
      ]
    },
    {
      "cell_type": "code",
      "execution_count": 1,
      "metadata": {
        "id": "soEuf7fLLgY4"
      },
      "outputs": [],
      "source": [
        "import requests\n",
        "from bs4 import BeautifulSoup\n",
        "\n",
        "# Define the URL of the website you want to scrape\n",
        "url = 'https://www.who.int/director-general/speeches'\n",
        "\n",
        "# Send a GET request to the URL and retrieve the web page content\n",
        "response = requests.get(url)\n",
        "content = response.text\n",
        "\n"
      ]
    },
    {
      "cell_type": "code",
      "source": [
        "# Parse the HTML content using BeautifulSoup\n",
        "soup = BeautifulSoup(content, 'html.parser')\n",
        "\n"
      ],
      "metadata": {
        "id": "9bYxuv3bNJOl"
      },
      "execution_count": 2,
      "outputs": []
    },
    {
      "cell_type": "code",
      "source": [
        "# Find the relevant HTML elements containing the text data you want to scrape\n",
        "# Adjust the selectors based on the structure of the web page you are targeting\n",
        "text_elements = soup.find_all('p')\n",
        "\n"
      ],
      "metadata": {
        "id": "2oI8eUYpNz5N"
      },
      "execution_count": 4,
      "outputs": []
    },
    {
      "cell_type": "code",
      "source": [
        "# Extract the text from the selected elements\n",
        "scraped_data = [element.get_text() for element in text_elements]\n",
        "\n"
      ],
      "metadata": {
        "id": "lPApAeRGN-Rk"
      },
      "execution_count": 5,
      "outputs": []
    },
    {
      "cell_type": "code",
      "source": [
        "# Process the scraped data as needed (e.g., clean, filter, tokenize)\n",
        "\n",
        "# Save the data to a file or use it for further analysis\n",
        "with open('scraped_data.txt', 'w', encoding='utf-8') as file:\n",
        "    file.write('\\n'.join(scraped_data))\n"
      ],
      "metadata": {
        "id": "4Wmu2Jx1OC8_"
      },
      "execution_count": 6,
      "outputs": []
    }
  ]
}